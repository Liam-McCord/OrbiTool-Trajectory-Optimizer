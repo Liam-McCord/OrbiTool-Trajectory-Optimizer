{
 "cells": [
  {
   "cell_type": "code",
   "execution_count": 1,
   "metadata": {},
   "outputs": [],
   "source": [
    "import rocket as rt\n",
    "import helperfunctions as hf\n",
    "import plotting as pt\n",
    "import numpy as np"
   ]
  },
  {
   "cell_type": "code",
   "execution_count": 2,
   "metadata": {},
   "outputs": [
    {
     "ename": "AttributeError",
     "evalue": "module 'forcefunctions' has no attribute 'force_function'",
     "output_type": "error",
     "traceback": [
      "\u001b[1;31m---------------------------------------------------------------------------\u001b[0m",
      "\u001b[1;31mAttributeError\u001b[0m                            Traceback (most recent call last)",
      "Cell \u001b[1;32mIn[2], line 4\u001b[0m\n\u001b[0;32m      2\u001b[0m \u001b[38;5;66;03m# lambda t : (t-20) ** 2 + 4 * t + 3\u001b[39;00m\n\u001b[0;32m      3\u001b[0m Bob_Sim \u001b[38;5;241m=\u001b[39m rt\u001b[38;5;241m.\u001b[39mSimulation(\u001b[38;5;241m5.972e24\u001b[39m, test_rocket, \u001b[38;5;241m6371000\u001b[39m, \u001b[38;5;241m10000\u001b[39m, \u001b[38;5;241m0.1\u001b[39m)\n\u001b[1;32m----> 4\u001b[0m t_list, plotted_path, final_i \u001b[38;5;241m=\u001b[39m \u001b[43mBob_Sim\u001b[49m\u001b[38;5;241;43m.\u001b[39;49m\u001b[43mrun_simulation\u001b[49m\u001b[43m(\u001b[49m\u001b[43m)\u001b[49m\n\u001b[0;32m      6\u001b[0m pt\u001b[38;5;241m.\u001b[39mplot_path(plotted_path, t_list, test_rocket, final_i)\n",
      "File \u001b[1;32mx:\\Programs\\Code\\University Of Canterbury\\Personal Projects\\rocket-simulation\\orbitool\\OrbiTool-Trajectory-Optimizer\\rocket.py:40\u001b[0m, in \u001b[0;36mSimulation.run_simulation\u001b[1;34m(self)\u001b[0m\n\u001b[0;32m     39\u001b[0m \u001b[38;5;28;01mdef\u001b[39;00m \u001b[38;5;21mrun_simulation\u001b[39m(\u001b[38;5;28mself\u001b[39m):\n\u001b[1;32m---> 40\u001b[0m     t_list, y, i_final \u001b[38;5;241m=\u001b[39m hf\u001b[38;5;241m.\u001b[39mRK4(\u001b[38;5;28mself\u001b[39m, \u001b[38;5;28mself\u001b[39m\u001b[38;5;241m.\u001b[39mrocket\u001b[38;5;241m.\u001b[39my, \u001b[43mhf\u001b[49m\u001b[38;5;241;43m.\u001b[39;49m\u001b[43mff\u001b[49m\u001b[38;5;241;43m.\u001b[39;49m\u001b[43mforce_function\u001b[49m, \u001b[38;5;28mself\u001b[39m\u001b[38;5;241m.\u001b[39mmax_steps, \u001b[38;5;28mself\u001b[39m\u001b[38;5;241m.\u001b[39mdt)\n\u001b[0;32m     41\u001b[0m     \u001b[38;5;28;01mreturn\u001b[39;00m t_list, y, i_final\n",
      "\u001b[1;31mAttributeError\u001b[0m: module 'forcefunctions' has no attribute 'force_function'"
     ]
    }
   ],
   "source": [
    "test_rocket = rt.Rocket(\"rocket\", np.array([30,20,30,0,5,50]), 10, lambda t : 15 * ((t-20) ** 2 + 4 * t + 3), 80, 30, 10000, 0.1)\n",
    "# lambda t : (t-20) ** 2 + 4 * t + 3\n",
    "Bob_Sim = rt.Simulation(5.972e24, test_rocket, 6371000, 10000, 0.1)\n",
    "t_list, plotted_path, final_i = Bob_Sim.run_simulation()\n",
    "\n",
    "pt.plot_path(plotted_path, t_list, test_rocket, final_i)"
   ]
  }
 ],
 "metadata": {
  "kernelspec": {
   "display_name": "Python 3",
   "language": "python",
   "name": "python3"
  },
  "language_info": {
   "codemirror_mode": {
    "name": "ipython",
    "version": 3
   },
   "file_extension": ".py",
   "mimetype": "text/x-python",
   "name": "python",
   "nbconvert_exporter": "python",
   "pygments_lexer": "ipython3",
   "version": "3.10.4"
  }
 },
 "nbformat": 4,
 "nbformat_minor": 2
}
