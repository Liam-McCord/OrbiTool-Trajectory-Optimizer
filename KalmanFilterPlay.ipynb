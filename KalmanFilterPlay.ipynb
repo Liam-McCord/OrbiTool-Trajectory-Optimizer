{
 "cells": [
  {
   "cell_type": "code",
   "execution_count": 439,
   "metadata": {},
   "outputs": [],
   "source": [
    "import numpy as np\n",
    "import matplotlib.pyplot as plt\n",
    "import random\n",
    "from filterpy.kalman import KalmanFilter"
   ]
  },
  {
   "cell_type": "code",
   "execution_count": 440,
   "metadata": {},
   "outputs": [],
   "source": [
    "#Raw acceleration Data\n",
    "accel_data = np.array([20.1, 40.2, 30.5, 21.3, 29.23, 29.14, 10.4, 5.4])\n",
    "# Would a dictionary be better for storing acceleration?\n",
    "noise_error_range = 0.1 # "
   ]
  },
  {
   "cell_type": "code",
   "execution_count": 441,
   "metadata": {},
   "outputs": [],
   "source": [
    "# We need x, P, Q, R, H, F, B"
   ]
  },
  {
   "cell_type": "code",
   "execution_count": 442,
   "metadata": {},
   "outputs": [],
   "source": [
    "def get_sensor_reading(i):\n",
    "    return(np.array([5 + i] ))"
   ]
  },
  {
   "cell_type": "code",
   "execution_count": 443,
   "metadata": {},
   "outputs": [
    {
     "name": "stdout",
     "output_type": "stream",
     "text": [
      "[5]\n",
      "[6]\n",
      "[7]\n",
      "[8]\n",
      "[9]\n",
      "[10]\n",
      "[11]\n",
      "[12]\n",
      "[13]\n",
      "[14]\n"
     ]
    }
   ],
   "source": [
    "f = KalmanFilter (dim_x=2, dim_z=1)\n",
    "\n",
    "\n",
    "f.x = np.array([2., 0.]) # Initial State\n",
    "\n",
    "\n",
    "f.F = np.array([[1.,1.],\n",
    "                [0.,1.]])\n",
    "\n",
    "#f.P *= 1000.\n",
    "\n",
    "f.P = np.array([[1000.,    0.],\n",
    "                [   0., 1000.] ])\n",
    "\n",
    "f.R = np.array([[5.]])\n",
    "\n",
    "#from filterpy.common import Q_discrete_white_noise\n",
    "#f.Q = Q_discrete_white_noise(dim=2, dt=0.1, var=0.13)\n",
    "f.Q = np.array([[0.1, 0.1], [0.1, 0.2]])\n",
    "f.O = np.array([[0.1]])\n",
    "f.H = np.array([[1.,0.]])\n",
    "f.z = np.array([[1.]])\n",
    "#print(f.z.shape)\n",
    "\n",
    "for i in range(10):\n",
    "    z = get_sensor_reading(i)\n",
    "    f.predict(z)\n",
    "    f.update(z)\n",
    "    print(f.z)\n",
    "    \n",
    "#do_something_with_estimate (f.x)"
   ]
  },
  {
   "cell_type": "markdown",
   "metadata": {},
   "source": [
    "Process noise is the noise of the model in question.\n",
    "Measurement noise is the noise of the sensor updates.\n",
    "\n",
    "Combining both"
   ]
  },
  {
   "cell_type": "code",
   "execution_count": 444,
   "metadata": {},
   "outputs": [],
   "source": [
    "from pykalman import KalmanFilter\n",
    "import numpy as np\n",
    "\n",
    "# Define the initial state and transition matrix\n",
    "x_init = np.array([0, 0])\n",
    "transition_matrix = [[1, 1], [0, 1]]\n",
    "\n",
    "# Define the measurement matrix and measurement noise\n",
    "measurement_matrix = [[1, 0]]\n",
    "measurement_noise = np.array([[0.1]])\n",
    "\n",
    "# Define the process noise\n",
    "process_noise = np.array([[0.1, 0.1], [0.1, 0.2]])\n",
    "\n",
    "# Create the Kalman filter\n",
    "kf = KalmanFilter(transition_matrices=transition_matrix,\n",
    "                  observation_matrices=measurement_matrix,\n",
    "                  initial_state_mean=x_init,\n",
    "                  observation_covariance=measurement_noise,\n",
    "                  transition_covariance=process_noise)\n",
    "\n",
    "# Generate some fake measurements\n",
    "measurements = np.random.randn(50, 1)\n",
    "\n",
    "# Run the Kalman filter\n",
    "(filtered_state_means, filtered_state_covariances) = kf.filter(measurements)"
   ]
  },
  {
   "cell_type": "code",
   "execution_count": 447,
   "metadata": {},
   "outputs": [
    {
     "name": "stdout",
     "output_type": "stream",
     "text": [
      "Estimated position:  0.2889188226523163\n",
      "Estimated position:  1.0363751673797412\n",
      "Estimated position:  2.0190780475847143\n",
      "Estimated position:  3.0491248345030066\n",
      "Estimated position:  3.949328575308633\n",
      "Estimated position:  4.991584098839211\n",
      "Estimated position:  5.969501744101367\n",
      "Estimated position:  6.945136423866545\n",
      "Estimated position:  7.9605089233887565\n",
      "Estimated position:  9.001320376567286\n"
     ]
    }
   ],
   "source": [
    "import numpy as np\n",
    "\n",
    "\n",
    "# Will I need to do this for every step?\n",
    "\n",
    "# Initialize the filter with an initial estimate of the position and the associated uncertainty (covariance)\n",
    "x_estimated = 0 # Height above ground?\n",
    "P_estimated = 1 \n",
    "\n",
    "# Define the velocity and the process noise\n",
    "velocity = 1 # Velocity of rocket upwards\n",
    "process_noise = 0.1\n",
    "\n",
    "# Define the measurement noise\n",
    "measurement_noise = 0.1 # noise of sensor\n",
    "\n",
    "\n",
    "for i in range(10):\n",
    "    # Generate a measurement with some random noise\n",
    "    measurement = i + np.random.normal(0, measurement_noise) # Adds noise\n",
    "\n",
    "    # Prediction step\n",
    "    x_predicted = x_estimated + velocity # Simple update of position via velocity.\n",
    "    P_predicted = P_estimated + process_noise # Update of predicted noise via the current noise?\n",
    "\n",
    "    # Correction step\n",
    "    K = P_predicted / (P_predicted + measurement_noise) \n",
    "    x_estimated = x_predicted + K * (measurement - x_predicted)\n",
    "    P_estimated = (1 - K) * P_predicted \n",
    "\n",
    "    # Print the estimated position\n",
    "    print(\"Estimated position: \", x_estimated)"
   ]
  },
  {
   "cell_type": "code",
   "execution_count": null,
   "metadata": {},
   "outputs": [],
   "source": []
  },
  {
   "cell_type": "code",
   "execution_count": 455,
   "metadata": {},
   "outputs": [
    {
     "name": "stdout",
     "output_type": "stream",
     "text": [
      "Estimated position:  -0.1031046185753324\n",
      "Estimated velocity:  -0.054007181158507445\n",
      "Estimated position:  0.9483501972056951\n",
      "Estimated velocity:  0.8813837393287915\n",
      "Estimated position:  1.8350753873054322\n",
      "Estimated velocity:  0.8851910711049404\n",
      "Estimated position:  2.928383477844677\n",
      "Estimated velocity:  1.0315898861227004\n",
      "Estimated position:  3.869538517801694\n",
      "Estimated velocity:  0.9676578798024755\n",
      "Estimated position:  4.892015208130724\n",
      "Estimated velocity:  1.0064265604478675\n",
      "Estimated position:  5.890111327441505\n",
      "Estimated velocity:  1.0005360081168542\n",
      "Estimated position:  7.003134508500373\n",
      "Estimated velocity:  1.0800760928554127\n",
      "Estimated position:  7.926995075830919\n",
      "Estimated velocity:  0.9696150580146654\n",
      "Estimated position:  8.893523516108361\n",
      "Estimated velocity:  0.9674324893925322\n"
     ]
    }
   ],
   "source": [
    "import numpy as np\n",
    "\n",
    "# Initialize the filter with an initial estimate of the position and velocity and the associated uncertainty (covariance)\n",
    "x_estimated = np.array([0, 0])\n",
    "P_estimated = np.eye(2)\n",
    "\n",
    "# Define the state transition matrix\n",
    "A = np.array([[1, 1], [0, 1]])\n",
    "\n",
    "# Define the measurement matrix\n",
    "H = np.array([[1, 0]])\n",
    "\n",
    "# Define the measurement noise\n",
    "R = np.array([[0.1]])\n",
    "\n",
    "# Define the process noise\n",
    "Q = np.array([[0.1, 0.1], [0.1, 0.2]])\n",
    "\n",
    "for i in range(10):\n",
    "    # Generate a measurement with some random noise\n",
    "    measurement = i + np.random.normal(0, 0.1) \n",
    "\n",
    "    # Prediction step\n",
    "    x_predicted = np.dot(A, x_estimated)\n",
    "    P_predicted = np.dot(A, np.dot(P_estimated, A.T)) + Q\n",
    "\n",
    "    # Correction step\n",
    "    K = np.dot(P_predicted, np.dot(H.T, np.linalg.inv(np.dot(H, np.dot(P_predicted, H.T)) + R)))\n",
    "    x_estimated = x_predicted + np.dot(K, (measurement - np.dot(H, x_predicted)))\n",
    "    P_estimated = np.dot((np.eye(2) - np.dot(K, H)), P_predicted)\n",
    "\n",
    "    # Print the estimated position and velocity\n",
    "    print(\"Estimated position: \", x_estimated[0])\n",
    "    print(\"Estimated velocity: \", x_estimated[1])"
   ]
  },
  {
   "cell_type": "code",
   "execution_count": null,
   "metadata": {},
   "outputs": [],
   "source": []
  },
  {
   "cell_type": "code",
   "execution_count": 1,
   "metadata": {},
   "outputs": [
    {
     "name": "stdout",
     "output_type": "stream",
     "text": [
      "Estimated x_position:  0.00729516341275277\n",
      "Estimated velocity:  4.919514202189053\n",
      "Estimated x_position:  0.2525485681183974\n",
      "Estimated velocity:  4.47614724414434\n",
      "Estimated x_position:  0.5022194851637922\n",
      "Estimated velocity:  4.068546364064528\n",
      "Estimated x_position:  0.7483789203590121\n",
      "Estimated velocity:  3.7128735746168062\n",
      "Estimated x_position:  0.9844396278603038\n",
      "Estimated velocity:  3.4085221685444558\n",
      "Estimated x_position:  1.2042239965792894\n",
      "Estimated velocity:  3.1499618810765\n",
      "Estimated x_position:  1.403288272259916\n",
      "Estimated velocity:  2.9309883224584903\n",
      "Estimated x_position:  1.5793609613867645\n",
      "Estimated velocity:  2.746092228523479\n",
      "Estimated x_position:  1.7320769578633135\n",
      "Estimated velocity:  2.590607316239547\n",
      "Estimated x_position:  1.86244633006767\n",
      "Estimated velocity:  2.4605210925457914\n"
     ]
    }
   ],
   "source": [
    "import numpy as np\n",
    "\n",
    "# Define time step\n",
    "dt = 0.1\n",
    "\n",
    "# Define the initial position, velocity, and acceleration\n",
    "x0 = 0\n",
    "v0 = 5\n",
    "a = -9.8\n",
    "\n",
    "# Define the state transition matrix\n",
    "A = np.array([[1, dt], [0, 1]]) # Velocity stays constant here while position updates according to velocity\n",
    "\n",
    "# Define the control variable matrix\n",
    "B = np.array([[0.5*dt**2], [dt]]) # \n",
    "\n",
    "# Define the control input\n",
    "u = np.array([[a]])\n",
    "\n",
    "# Define the initial state matrix\n",
    "x_estimated = np.array([[x0], [v0]])\n",
    "\n",
    "# Define the measurement matrix\n",
    "H = np.array([[1, 0], [0, 1]])\n",
    "\n",
    "# Define the measurement noise\n",
    "R = np.array([[0.1, 0], [0, 0.1]])\n",
    "\n",
    "# Define the process noise\n",
    "Q = np.array([[0.01, 0.01], [0.01, 0.02]])\n",
    "\n",
    "# Define the measurement\n",
    "measurement = np.array([[x0 + np.random.normal(0, 0.1)], [v0 + np.random.normal(0, 0.1)]])\n",
    "\n",
    "# Define the estimated covariance\n",
    "P_estimated = np.eye(2)\n",
    "\n",
    "for i in range(10):\n",
    "    # Prediction step\n",
    "    x_predicted = np.dot(A, x_estimated) + np.dot(B, u)\n",
    "    P_predicted = np.dot(A, np.dot(P_estimated, A.T)) + Q\n",
    "\n",
    "    # Correction step\n",
    "    K = np.dot(P_predicted, np.dot(H.T, np.linalg.inv(np.dot(H, np.dot(P_predicted, H.T)) + R)))\n",
    "    x_estimated = x_predicted + np.dot(K, (measurement - np.dot(H, x_predicted)))\n",
    "    P_estimated = np.dot((np.eye(2) - np.dot(K, H)), P_predicted)\n",
    "\n",
    "    # Print the estimated position and velocity\n",
    "    print(\"Estimated x_position: \", x_estimated[0][0])\n",
    "    print(\"Estimated velocity: \", x_estimated[1][0])"
   ]
  }
 ],
 "metadata": {
  "kernelspec": {
   "display_name": "Python 3",
   "language": "python",
   "name": "python3"
  },
  "language_info": {
   "codemirror_mode": {
    "name": "ipython",
    "version": 3
   },
   "file_extension": ".py",
   "mimetype": "text/x-python",
   "name": "python",
   "nbconvert_exporter": "python",
   "pygments_lexer": "ipython3",
   "version": "3.10.4"
  }
 },
 "nbformat": 4,
 "nbformat_minor": 2
}
